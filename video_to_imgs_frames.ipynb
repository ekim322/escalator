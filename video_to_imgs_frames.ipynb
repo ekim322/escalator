{
 "cells": [
  {
   "cell_type": "code",
   "execution_count": 2,
   "id": "56d408a2",
   "metadata": {},
   "outputs": [],
   "source": [
    "import skvideo.io\n",
    "import numpy as np\n",
    "import matplotlib.pyplot as plt\n",
    "import cv2\n",
    "from PIL import Image"
   ]
  },
  {
   "cell_type": "code",
   "execution_count": 3,
   "id": "a17b1aa7",
   "metadata": {},
   "outputs": [
    {
     "data": {
      "text/plain": [
       "(3613, 720, 1280, 3)"
      ]
     },
     "execution_count": 3,
     "metadata": {},
     "output_type": "execute_result"
    }
   ],
   "source": [
    "import skvideo.io\n",
    "\n",
    "vid = skvideo.io.vread(\"sample_escalator.mp4\") \n",
    "vid.shape"
   ]
  },
  {
   "cell_type": "code",
   "execution_count": 4,
   "id": "c7e61dee",
   "metadata": {},
   "outputs": [],
   "source": [
    "count = 0\n",
    "for i in range(len(vid)):\n",
    "    if count>=100:\n",
    "        cur_img = vid[i]\n",
    "        im = Image.fromarray(cur_img)\n",
    "        im.save('esc_moving/img_{}.png'.format(count))\n",
    "    count += 1\n",
    "    \n",
    "    if count==200:\n",
    "        break"
   ]
  },
  {
   "cell_type": "code",
   "execution_count": 16,
   "id": "c7c56c7c",
   "metadata": {},
   "outputs": [],
   "source": [
    "# Save dynamic\n",
    "\n",
    "count = 0\n",
    "move_frames = 0 \n",
    "\n",
    "\n",
    "for i in range(100, len(vid)):\n",
    "    cur_img = vid[i]\n",
    "    im = Image.fromarray(cur_img)\n",
    "    im.save('esc_dynamic/img_%03d.png' % count)\n",
    "    count += 1\n",
    "    move_frames += 1\n",
    "    \n",
    "    if move_frames >45 and np.random.choice(range(5))==0:\n",
    "        num_frame_stop = np.random.randint(45,95)\n",
    "        for j in range(num_frame_stop):\n",
    "            im.save('esc_dynamic/img_%03d.png' % count)\n",
    "            count += 1\n",
    "        move_frames = 0\n",
    "        \n",
    "    if count>600:\n",
    "        break"
   ]
  }
 ],
 "metadata": {
  "kernelspec": {
   "display_name": "Python 3 (ipykernel)",
   "language": "python",
   "name": "python3"
  },
  "language_info": {
   "codemirror_mode": {
    "name": "ipython",
    "version": 3
   },
   "file_extension": ".py",
   "mimetype": "text/x-python",
   "name": "python",
   "nbconvert_exporter": "python",
   "pygments_lexer": "ipython3",
   "version": "3.9.7"
  }
 },
 "nbformat": 4,
 "nbformat_minor": 5
}
